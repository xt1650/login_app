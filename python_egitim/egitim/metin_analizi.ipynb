{
 "cells": [
  {
   "cell_type": "markdown",
   "id": "a8ed70df",
   "metadata": {},
   "source": [
    "<h1>Metin Analizi</h1>"
   ]
  },
  {
   "cell_type": "markdown",
   "id": "c2a42062",
   "metadata": {},
   "source": [
    "<h2>Gereksinimler</h2>\n",
    "<li>sozlukler</li>\n",
    "<li>listeler</li>\n",
    "<li>for donguleri</li>"
   ]
  },
  {
   "cell_type": "code",
   "execution_count": null,
   "id": "478db066",
   "metadata": {},
   "outputs": [],
   "source": [
    "# kullanicidan alinan bir metin icinde gecen karakterlerin metin icerisinde kacar kez kullanildigini\n",
    "# analiz edip bu bilgiyi bir sozluk icerisinde anahtar - deger ikilileri olarak tutacak bir\n",
    "# betik olusturun\n",
    "# ' ' bosluk karakterini bu analiz icerisine katmayin"
   ]
  }
 ],
 "metadata": {
  "kernelspec": {
   "display_name": "Python 3 (ipykernel)",
   "language": "python",
   "name": "python3"
  },
  "language_info": {
   "codemirror_mode": {
    "name": "ipython",
    "version": 3
   },
   "file_extension": ".py",
   "mimetype": "text/x-python",
   "name": "python",
   "nbconvert_exporter": "python",
   "pygments_lexer": "ipython3",
   "version": "3.10.7"
  }
 },
 "nbformat": 4,
 "nbformat_minor": 5
}
