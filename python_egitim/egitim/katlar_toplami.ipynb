{
 "cells": [
  {
   "cell_type": "markdown",
   "id": "426eeb03",
   "metadata": {},
   "source": [
    "<h1>Katlar Toplami</h1>"
   ]
  },
  {
   "cell_type": "markdown",
   "id": "5c1d23e7",
   "metadata": {},
   "source": [
    "<h2>Gereksinimler</h2>\n",
    "<li>Fonksiyonlar (opsiyonel)</li>\n",
    "<li>listeler</li>\n",
    "<li>for donguleri</li>"
   ]
  },
  {
   "cell_type": "code",
   "execution_count": null,
   "id": "208b548c",
   "metadata": {},
   "outputs": [],
   "source": [
    "# verilen liste icerisinde kullanicidan alinan sayinin katlari olan sayilarin toplamini ekrana\n",
    "# yazan bir fonksiyon yazin"
   ]
  }
 ],
 "metadata": {
  "kernelspec": {
   "display_name": "Python 3 (ipykernel)",
   "language": "python",
   "name": "python3"
  },
  "language_info": {
   "codemirror_mode": {
    "name": "ipython",
    "version": 3
   },
   "file_extension": ".py",
   "mimetype": "text/x-python",
   "name": "python",
   "nbconvert_exporter": "python",
   "pygments_lexer": "ipython3",
   "version": "3.10.7"
  }
 },
 "nbformat": 4,
 "nbformat_minor": 5
}
