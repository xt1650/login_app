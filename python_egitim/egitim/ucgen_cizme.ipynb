{
 "cells": [
  {
   "cell_type": "markdown",
   "id": "4e652b76",
   "metadata": {},
   "source": [
    "<h1>Ucgen</h1>"
   ]
  },
  {
   "cell_type": "markdown",
   "id": "cbf96f58",
   "metadata": {},
   "source": [
    "<h2>Gereksinimler</h2>\n",
    "<li>while dongusu</li>\n",
    "<li>for dongusu</li>"
   ]
  },
  {
   "cell_type": "code",
   "execution_count": null,
   "id": "a5593285",
   "metadata": {},
   "outputs": [],
   "source": [
    "# ekrana print kullanarak ucgen sekli olusturacak sekilde * isareti yazdirin\n",
    "# ucgenin taban uzunlugunu kullanicidan alin\n",
    "# taban uzunlugu tek sayi degil ise uzunlugu yeniden alin"
   ]
  }
 ],
 "metadata": {
  "kernelspec": {
   "display_name": "Python 3 (ipykernel)",
   "language": "python",
   "name": "python3"
  },
  "language_info": {
   "codemirror_mode": {
    "name": "ipython",
    "version": 3
   },
   "file_extension": ".py",
   "mimetype": "text/x-python",
   "name": "python",
   "nbconvert_exporter": "python",
   "pygments_lexer": "ipython3",
   "version": "3.10.7"
  }
 },
 "nbformat": 4,
 "nbformat_minor": 5
}
