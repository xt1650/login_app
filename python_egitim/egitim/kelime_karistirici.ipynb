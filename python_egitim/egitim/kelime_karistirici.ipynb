{
 "cells": [
  {
   "cell_type": "markdown",
   "id": "3c5dd04a",
   "metadata": {},
   "source": [
    "<h1>Kelime Karistirici</h1>"
   ]
  },
  {
   "cell_type": "markdown",
   "id": "3602594c",
   "metadata": {},
   "source": [
    "<h2>Gereksinimler</h2>\n",
    "<li>random modulu</li>\n",
    "<li>listeler</li>\n",
    "<li>for donguleri</li>"
   ]
  },
  {
   "cell_type": "code",
   "execution_count": null,
   "id": "06d1294c",
   "metadata": {},
   "outputs": [],
   "source": [
    "# verilen bir cumlede kelimeleri bosluk karakterini baz alarak ayirip\n",
    "# her kelime icin ilk ve son harfini sabit tutarak ortada kalan harflerin yerlerini\n",
    "# karistirarak yeni olusturdugunuz kelimeleri birlestirip anlasilmasi gorece daha zor\n",
    "# bir cumle elde edin"
   ]
  }
 ],
 "metadata": {
  "kernelspec": {
   "display_name": "Python 3 (ipykernel)",
   "language": "python",
   "name": "python3"
  },
  "language_info": {
   "codemirror_mode": {
    "name": "ipython",
    "version": 3
   },
   "file_extension": ".py",
   "mimetype": "text/x-python",
   "name": "python",
   "nbconvert_exporter": "python",
   "pygments_lexer": "ipython3",
   "version": "3.10.7"
  }
 },
 "nbformat": 4,
 "nbformat_minor": 5
}
