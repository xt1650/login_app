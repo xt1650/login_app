{
 "cells": [
  {
   "cell_type": "markdown",
   "id": "fb61aa6a",
   "metadata": {},
   "source": [
    "<h1>N inci Dereceden Kok</h1>"
   ]
  },
  {
   "cell_type": "markdown",
   "id": "3fe7d9ec",
   "metadata": {},
   "source": [
    "<h2>Gereksinimler</h2>\n",
    "<li>fonksiyonlar</li>\n",
    "<li>while donguleri</li>\n",
    "<li>for donguleri</li>\n",
    "<li>range fonksiyonu</li>"
   ]
  },
  {
   "cell_type": "code",
   "execution_count": null,
   "id": "0af93316",
   "metadata": {},
   "outputs": [],
   "source": [
    "# bir sayinin n inci dereceden kokunu python in kok bulma fonksiyonlarinin kullanmadan bulan\n",
    "# bir fonksiyon yazin\n",
    "# bulunacak kokun hassasiyeti ayarlanabilir olsun"
   ]
  },
  {
   "cell_type": "code",
   "execution_count": 44,
   "id": "f387ee70",
   "metadata": {
    "scrolled": true
   },
   "outputs": [
    {
     "name": "stdout",
     "output_type": "stream",
     "text": [
      "36\n",
      "6\n"
     ]
    }
   ],
   "source": [
    "alt_sayi=int(input(\"\"));\n",
    "\n",
    "liste=list(range(1,10 ))\n",
    "liste2=list()\n",
    "liste4=list()\n",
    "\n",
    "for i in liste:\n",
    "    liste2.append(i*i)\n",
    "for a in liste2:\n",
    "    x=abs(alt_sayi-a)\n",
    "    liste4.append(x)\n",
    "sayi3=min(liste4)\n",
    "print(liste[liste4.index(sayi3)])\n",
    "\n",
    "    \n",
    "    "
   ]
  },
  {
   "cell_type": "code",
   "execution_count": 31,
   "id": "db8ee94b",
   "metadata": {},
   "outputs": [
    {
     "ename": "IndentationError",
     "evalue": "expected an indented block (4274116577.py, line 2)",
     "output_type": "error",
     "traceback": [
      "\u001b[0;36m  Cell \u001b[0;32mIn [31], line 2\u001b[0;36m\u001b[0m\n\u001b[0;31m    \u001b[0m\n\u001b[0m    ^\u001b[0m\n\u001b[0;31mIndentationError\u001b[0m\u001b[0;31m:\u001b[0m expected an indented block\n"
     ]
    }
   ],
   "source": [
    "koku_bul=int(input())\n",
    "kacinci_derece=int(input())\n",
    "olasi_en_kucuk=0\n",
    "olasi_en_buyuk=koku_bul\n",
    "ortanca=(olasi_en_kucuk + olasi_en_buyuk)/2\n",
    "\n",
    "while \n"
   ]
  },
  {
   "cell_type": "code",
   "execution_count": null,
   "id": "b86abac0",
   "metadata": {},
   "outputs": [],
   "source": [
    "def n_derecedeb_kok(girilen_sayi, derece):\n",
    "    olasi_en_buyuk_deger=girilen_sayi\n",
    "    olasi_en_kucuk_deger=0\n",
    "    while 1:\n",
    "        sonuc=1\n",
    "        olasi_en_ortalama_deger=(olasi_en_buyuk_deger + olasi_en_kucuk_deger)/2\n",
    "        i=0\n",
    "        \n",
    "        while derece != i:\n",
    "            sonuc=olasi_en_ortalama_deger\n",
    "            i =+1"
   ]
  },
  {
   "cell_type": "code",
   "execution_count": null,
   "id": "ba73f6c3",
   "metadata": {},
   "outputs": [],
   "source": [
    "def n_derecedeb_kok(n,sayi):\n",
    "    hassasiyet= .001\n",
    "    alt_taban=0\n",
    "    ust_taban=sayi\n",
    "    ortanca=(alt_taban + ust_taban)/2\n",
    "    "
   ]
  }
 ],
 "metadata": {
  "kernelspec": {
   "display_name": "Python 3 (ipykernel)",
   "language": "python",
   "name": "python3"
  },
  "language_info": {
   "codemirror_mode": {
    "name": "ipython",
    "version": 3
   },
   "file_extension": ".py",
   "mimetype": "text/x-python",
   "name": "python",
   "nbconvert_exporter": "python",
   "pygments_lexer": "ipython3",
   "version": "3.9.6"
  }
 },
 "nbformat": 4,
 "nbformat_minor": 5
}
