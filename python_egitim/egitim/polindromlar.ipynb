{
 "cells": [
  {
   "cell_type": "markdown",
   "id": "0c84b8e8",
   "metadata": {},
   "source": [
    "<h1>Polindromlar</h1>"
   ]
  },
  {
   "cell_type": "markdown",
   "id": "f4650a18",
   "metadata": {},
   "source": [
    "<h2>Gereksinimler</h2>\n",
    "<li>if - else bloklari</li>\n",
    "</br>\n",
    "<li>Slicing</li> \n",
    "<strong>veya</strong> \n",
    "<li>for/while donguleri</li>"
   ]
  },
  {
   "cell_type": "code",
   "execution_count": null,
   "id": "97664f64",
   "metadata": {},
   "outputs": [],
   "source": [
    "# kullanicinin girdigi bir girdinin polindrom olup olmadigini kontrol edin\n",
    "# polindrom soldan saga ve sagdan sola okunusu ayni olan sayi ve/veya yazilardir"
   ]
  }
 ],
 "metadata": {
  "kernelspec": {
   "display_name": "Python 3 (ipykernel)",
   "language": "python",
   "name": "python3"
  },
  "language_info": {
   "codemirror_mode": {
    "name": "ipython",
    "version": 3
   },
   "file_extension": ".py",
   "mimetype": "text/x-python",
   "name": "python",
   "nbconvert_exporter": "python",
   "pygments_lexer": "ipython3",
   "version": "3.10.7"
  }
 },
 "nbformat": 4,
 "nbformat_minor": 5
}
