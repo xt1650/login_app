{
 "cells": [
  {
   "cell_type": "markdown",
   "id": "1f092ee7",
   "metadata": {},
   "source": [
    "<h1>Yasakli Kelimeler</h1>"
   ]
  },
  {
   "cell_type": "code",
   "execution_count": null,
   "id": "525f539d",
   "metadata": {},
   "outputs": [],
   "source": [
    "yasakli_kelimeler = ['kahretsin', 'ulan', 'kan', 'vahset', 'siddet']\n",
    "metin = input('sansurlemek istediginiz metni girin >> ')\n",
    "kelimeler = metin.split(' ')\n",
    "\n",
    "def sansurle(kelime):\n",
    "    sansurlu_kelime = ''\n",
    "    sansurlu_kelime += kelime[0]\n",
    "    sansurlu_kelime += '*' * (len(kelime) - 2)\n",
    "    sansurlu_kelime += kelime[-1]\n",
    "    return sansurlu_kelime\n",
    "\n",
    "sansurlenmis_kelimeler = []\n",
    "for kelime in kelimeler:\n",
    "    if kelime.lower() in yasakli_kelimeler:\n",
    "        sansurlenmis_kelimeler.append(sansurle(kelime))\n",
    "    else:\n",
    "        sansurlenmis_kelimeler.append(kelime)\n",
    "\n",
    "print(' '.join(sansurlenmis_kelimeler))"
   ]
  }
 ],
 "metadata": {
  "kernelspec": {
   "display_name": "Python 3 (ipykernel)",
   "language": "python",
   "name": "python3"
  },
  "language_info": {
   "codemirror_mode": {
    "name": "ipython",
    "version": 3
   },
   "file_extension": ".py",
   "mimetype": "text/x-python",
   "name": "python",
   "nbconvert_exporter": "python",
   "pygments_lexer": "ipython3",
   "version": "3.10.7"
  }
 },
 "nbformat": 4,
 "nbformat_minor": 5
}
