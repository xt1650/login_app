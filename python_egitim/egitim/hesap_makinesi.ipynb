{
 "cells": [
  {
   "cell_type": "markdown",
   "id": "f59c059a",
   "metadata": {},
   "source": [
    "<h1>Hesap Makinesi</h1>"
   ]
  },
  {
   "cell_type": "markdown",
   "id": "e9ca1a3e",
   "metadata": {},
   "source": [
    "<h2>Gereksinimler</h2>\n",
    "<li>if else bloklari</li>"
   ]
  },
  {
   "cell_type": "code",
   "execution_count": null,
   "id": "24c3c994",
   "metadata": {},
   "outputs": [],
   "source": [
    "# kullanicidan input() fonksiyonu yardimi ile bir sayi alin ve bu sayiyi bir degiskene atayin\n",
    "# kullanicidan bir islem alin ve bunu bir degikene atayin\n",
    "# kullanicidan bir sayi daha alin ve bunu bir degiskene atayin\n",
    "# girilen islemi yapip sonucu ekrana yazdiran bir karar mekanizmasi kurgulayin girilen islemin\n",
    "# gecersiz bir islem olmasi halinde hata mesaji yazin"
   ]
  }
 ],
 "metadata": {
  "kernelspec": {
   "display_name": "Python 3 (ipykernel)",
   "language": "python",
   "name": "python3"
  },
  "language_info": {
   "codemirror_mode": {
    "name": "ipython",
    "version": 3
   },
   "file_extension": ".py",
   "mimetype": "text/x-python",
   "name": "python",
   "nbconvert_exporter": "python",
   "pygments_lexer": "ipython3",
   "version": "3.10.7"
  }
 },
 "nbformat": 4,
 "nbformat_minor": 5
}
