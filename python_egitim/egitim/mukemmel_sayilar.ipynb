{
 "cells": [
  {
   "cell_type": "markdown",
   "id": "00b0dbdb",
   "metadata": {},
   "source": [
    "<h1>Mukemmel Sayilar</h1>"
   ]
  },
  {
   "cell_type": "markdown",
   "id": "e3d2c1e0",
   "metadata": {},
   "source": [
    "<h2>Gereksinimler</h2>\n",
    "<li>fonksiyonlar (opsiyonel)</li>\n",
    "<li>listeler (opsiyonel)</li>\n",
    "<li>for donguleri</li>"
   ]
  },
  {
   "cell_type": "code",
   "execution_count": null,
   "id": "3c14928a",
   "metadata": {},
   "outputs": [],
   "source": [
    "# kullanicidan alinan bir sayi araligindaki mukemmel sayilari bulup ekrana yazan bir kod yazin\n",
    "# mukemmel sayilar kendisi haric carpanlarinin toplami yine kendisine esit olan sayilardir"
   ]
  }
 ],
 "metadata": {
  "kernelspec": {
   "display_name": "Python 3 (ipykernel)",
   "language": "python",
   "name": "python3"
  },
  "language_info": {
   "codemirror_mode": {
    "name": "ipython",
    "version": 3
   },
   "file_extension": ".py",
   "mimetype": "text/x-python",
   "name": "python",
   "nbconvert_exporter": "python",
   "pygments_lexer": "ipython3",
   "version": "3.10.7"
  }
 },
 "nbformat": 4,
 "nbformat_minor": 5
}
