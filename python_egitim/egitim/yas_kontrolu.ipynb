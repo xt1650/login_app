{
 "cells": [
  {
   "cell_type": "markdown",
   "id": "92799d53",
   "metadata": {},
   "source": [
    "<h1>Yas Kontrolu</h1>"
   ]
  },
  {
   "cell_type": "markdown",
   "id": "e952f33e",
   "metadata": {},
   "source": [
    "<h2>Gereksinimler</h2>\n",
    "<li>fonksiyonlar (opsiyonel)</li>\n",
    "<li>while dongusu (opsiyonel)</li>\n",
    "<li>if - else bloklari</li>"
   ]
  },
  {
   "cell_type": "code",
   "execution_count": null,
   "id": "83d37e82",
   "metadata": {},
   "outputs": [],
   "source": [
    "# kullanicidan alacaginiz yas bilgisini test edip 18 yasindan kucuk ise ilerlemesini engellediginiz\n",
    "# 18 yasindan buyuk ise ilerlemesine izin verdiginiz bir yazilim gelistirin\n",
    "# kullanicinin 1 den kucuk 120 den buyuk bir deger girmesi halinde kullaniciyi uyarip yeniden\n",
    "# yas bilgisi girmesini isteyin"
   ]
  }
 ],
 "metadata": {
  "kernelspec": {
   "display_name": "Python 3 (ipykernel)",
   "language": "python",
   "name": "python3"
  },
  "language_info": {
   "codemirror_mode": {
    "name": "ipython",
    "version": 3
   },
   "file_extension": ".py",
   "mimetype": "text/x-python",
   "name": "python",
   "nbconvert_exporter": "python",
   "pygments_lexer": "ipython3",
   "version": "3.10.7"
  }
 },
 "nbformat": 4,
 "nbformat_minor": 5
}
