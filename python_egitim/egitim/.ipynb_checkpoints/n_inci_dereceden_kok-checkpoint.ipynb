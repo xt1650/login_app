{
 "cells": [
  {
   "cell_type": "markdown",
   "id": "fb61aa6a",
   "metadata": {},
   "source": [
    "<h1>N inci Dereceden Kok</h1>"
   ]
  },
  {
   "cell_type": "markdown",
   "id": "3fe7d9ec",
   "metadata": {},
   "source": [
    "<h2>Gereksinimler</h2>\n",
    "<li>fonksiyonlar</li>\n",
    "<li>while donguleri</li>\n",
    "<li>for donguleri</li>\n",
    "<li>range fonksiyonu</li>"
   ]
  },
  {
   "cell_type": "code",
   "execution_count": null,
   "id": "0af93316",
   "metadata": {},
   "outputs": [],
   "source": [
    "# bir sayinin n inci dereceden kokunu python in kok bulma fonksiyonlarinin kullanmadan bulan\n",
    "# bir fonksiyon yazin\n",
    "# bulunacak kokun hassasiyeti ayarlanabilir olsun"
   ]
  },
  {
   "cell_type": "code",
   "execution_count": null,
   "id": "dbaf8f22",
   "metadata": {},
   "outputs": [],
   "source": []
  }
 ],
 "metadata": {
  "kernelspec": {
   "display_name": "Python 3 (ipykernel)",
   "language": "python",
   "name": "python3"
  },
  "language_info": {
   "codemirror_mode": {
    "name": "ipython",
    "version": 3
   },
   "file_extension": ".py",
   "mimetype": "text/x-python",
   "name": "python",
   "nbconvert_exporter": "python",
   "pygments_lexer": "ipython3",
   "version": "3.9.6"
  }
 },
 "nbformat": 4,
 "nbformat_minor": 5
}
