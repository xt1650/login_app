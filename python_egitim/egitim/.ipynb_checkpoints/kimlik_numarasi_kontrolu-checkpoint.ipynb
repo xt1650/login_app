{
 "cells": [
  {
   "cell_type": "markdown",
   "id": "0b93ce71",
   "metadata": {},
   "source": [
    "<h1>TC Kimlik Numarasi Kontrolu</h1>"
   ]
  },
  {
   "cell_type": "code",
   "execution_count": null,
   "id": "fe536a75",
   "metadata": {},
   "outputs": [],
   "source": [
    "# verilen tc kimlik numarasinin gecerli bir tc kimlik numarasi olup olmadigini kontrol eden bir\n",
    "# fonksiyon yazin kontrol icin gerekli kurallar bunune su adresten ulasabilirsiniz\n",
    "# 11 rakamdan mi olusuyor\n",
    "# cift rakam ile mi bitiyor"
   ]
  },
  {
   "cell_type": "code",
   "execution_count": 18,
   "id": "a07b4897",
   "metadata": {},
   "outputs": [
    {
     "name": "stdout",
     "output_type": "stream",
     "text": [
      "314\n"
     ]
    },
    {
     "ename": "TypeError",
     "evalue": "not all arguments converted during string formatting",
     "output_type": "error",
     "traceback": [
      "\u001b[0;31m---------------------------------------------------------------------------\u001b[0m",
      "\u001b[0;31mTypeError\u001b[0m                                 Traceback (most recent call last)",
      "Cell \u001b[0;32mIn [18], line 2\u001b[0m\n\u001b[1;32m      1\u001b[0m sayi\u001b[38;5;241m=\u001b[39m\u001b[38;5;28minput\u001b[39m()\n\u001b[0;32m----> 2\u001b[0m tc_dogrula(sayi)\n\u001b[1;32m      4\u001b[0m \u001b[38;5;28;01mdef\u001b[39;00m \u001b[38;5;21mtc_dogrula\u001b[39m(x):\n\u001b[1;32m      5\u001b[0m     ciftmi\u001b[38;5;241m=\u001b[39m\u001b[38;5;241m0\u001b[39m\n",
      "Cell \u001b[0;32mIn [4], line 7\u001b[0m, in \u001b[0;36mtc_dogrula\u001b[0;34m(x)\u001b[0m\n\u001b[1;32m      5\u001b[0m \u001b[38;5;28;01mdef\u001b[39;00m \u001b[38;5;21mtc_dogrula\u001b[39m(x):\n\u001b[1;32m      6\u001b[0m     uzunluk\u001b[38;5;241m=\u001b[39m\u001b[38;5;28mlen\u001b[39m(x)\n\u001b[0;32m----> 7\u001b[0m     ciftmi\u001b[38;5;241m=\u001b[39m\u001b[43mx\u001b[49m\u001b[38;5;241;43m%\u001b[39;49m\u001b[38;5;241;43m2\u001b[39;49m;\n\u001b[1;32m      8\u001b[0m     \u001b[38;5;28;01mif\u001b[39;00m(uzunluk\u001b[38;5;241m==\u001b[39m\u001b[38;5;241m11\u001b[39m \u001b[38;5;129;01mand\u001b[39;00m ciftmi\u001b[38;5;241m==\u001b[39m\u001b[38;5;241m0\u001b[39m):\n\u001b[1;32m      9\u001b[0m         \u001b[38;5;28mprint\u001b[39m(\u001b[38;5;124m\"\u001b[39m\u001b[38;5;124mBu bir TC\u001b[39m\u001b[38;5;124m\"\u001b[39m)\n",
      "\u001b[0;31mTypeError\u001b[0m: not all arguments converted during string formatting"
     ]
    }
   ],
   "source": [
    "sayi=input()\n",
    "tc_dogrula(sayi)\n",
    "\n",
    "def tc_dogrula(x):\n",
    "    ciftmi=0\n",
    "    uzunluk=len(x)\n",
    "    x=int(x)\n",
    "    print(type(x))\n",
    "    ciftmi=x % 2\n",
    "    if uzunluk==11 and ciftmi==0:\n",
    "        print(\"Bu bir TC\")\n",
    "    else:\n",
    "        print(\"değil\")\n",
    "    "
   ]
  },
  {
   "cell_type": "code",
   "execution_count": null,
   "id": "6e526c8e",
   "metadata": {},
   "outputs": [],
   "source": []
  }
 ],
 "metadata": {
  "kernelspec": {
   "display_name": "Python 3 (ipykernel)",
   "language": "python",
   "name": "python3"
  },
  "language_info": {
   "codemirror_mode": {
    "name": "ipython",
    "version": 3
   },
   "file_extension": ".py",
   "mimetype": "text/x-python",
   "name": "python",
   "nbconvert_exporter": "python",
   "pygments_lexer": "ipython3",
   "version": "3.9.6"
  }
 },
 "nbformat": 4,
 "nbformat_minor": 5
}
