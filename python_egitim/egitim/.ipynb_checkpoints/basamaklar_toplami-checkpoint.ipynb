{
 "cells": [
  {
   "cell_type": "markdown",
   "id": "f5459f41",
   "metadata": {},
   "source": [
    "<h1>Basamaklar Toplami</h1>"
   ]
  },
  {
   "cell_type": "code",
   "execution_count": 1,
   "id": "458adbef",
   "metadata": {},
   "outputs": [
    {
     "name": "stdout",
     "output_type": "stream",
     "text": [
      "sayi:\n"
     ]
    }
   ],
   "source": [
    "sayi=input(\"sayi:\");\n",
    "for(len(sayi))"
   ]
  },
  {
   "cell_type": "code",
   "execution_count": null,
   "id": "d568e11d",
   "metadata": {},
   "outputs": [],
   "source": [
    "# kullanicidan alinan 3 basamakli sayinin basamaklari toplamini ekrana yazdiran bir betik olusturun\n",
    "# sayinin 3 basamakli olmamasi halinde kullaniciyi uyarip yeni bir sayi girmesini isteyin"
   ]
  }
 ],
 "metadata": {
  "kernelspec": {
   "display_name": "Python 3 (ipykernel)",
   "language": "python",
   "name": "python3"
  },
  "language_info": {
   "codemirror_mode": {
    "name": "ipython",
    "version": 3
   },
   "file_extension": ".py",
   "mimetype": "text/x-python",
   "name": "python",
   "nbconvert_exporter": "python",
   "pygments_lexer": "ipython3",
   "version": "3.9.6"
  }
 },
 "nbformat": 4,
 "nbformat_minor": 5
}
