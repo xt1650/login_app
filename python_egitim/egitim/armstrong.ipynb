{
 "cells": [
  {
   "cell_type": "markdown",
   "id": "c5ac1fa2",
   "metadata": {},
   "source": [
    "<h1>Armstrong Sayilari</h1>"
   ]
  },
  {
   "cell_type": "markdown",
   "id": "36397e88",
   "metadata": {},
   "source": [
    "<h2>Gereksinimler</h2>\n",
    "<li>Fonksiyonlar (opsiyonel)</li>\n",
    "<li>if else bloklari</li>\n",
    "<li>for donguleri</li>"
   ]
  },
  {
   "cell_type": "code",
   "execution_count": null,
   "id": "f8391fd3",
   "metadata": {},
   "outputs": [],
   "source": [
    "# kullanicidan alinan bir sayi araligindaki armstrong sayilarini bulup ekrana yazan bir kod yazin\n",
    "# armstrong sayilarinin tanimina \n",
    "# https://www.jigsawacademy.com/blogs/data-science/what-is-armstrong-number/ adresinden ulasabilirsiniz"
   ]
  }
 ],
 "metadata": {
  "kernelspec": {
   "display_name": "Python 3 (ipykernel)",
   "language": "python",
   "name": "python3"
  },
  "language_info": {
   "codemirror_mode": {
    "name": "ipython",
    "version": 3
   },
   "file_extension": ".py",
   "mimetype": "text/x-python",
   "name": "python",
   "nbconvert_exporter": "python",
   "pygments_lexer": "ipython3",
   "version": "3.9.6"
  }
 },
 "nbformat": 4,
 "nbformat_minor": 5
}
