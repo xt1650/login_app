{
 "cells": [
  {
   "cell_type": "markdown",
   "id": "94a0e450",
   "metadata": {},
   "source": [
    "<h1>Sayi Tahmin Oyunu</h1>"
   ]
  },
  {
   "cell_type": "markdown",
   "id": "d3a6e256",
   "metadata": {},
   "source": [
    "<h2>Gereksinimler</h2>\n",
    "<li>random modulu</li>\n",
    "<li>while dongusu</li>\n",
    "<li>if - else bloklari</li>"
   ]
  },
  {
   "cell_type": "code",
   "execution_count": 1,
   "id": "3d17cdea",
   "metadata": {},
   "outputs": [],
   "source": [
    "# random kutuphanesini kullanarak kullanicinin tahmin etmesi icin rasgele bir sayi secin\n",
    "# kullanicinin tahminlerini yapacagi bir dongu olusturun\n",
    "# kullanicidan her dongude bir girdi alin ve bu girdinin hedeflenen sayiya gore durumunu degerlendirin\n",
    "# kullanicinin tahminine gore kullaniciya bir geri donuste bulunun\n",
    "    # ornegin hedeflenen sayidan buyuk bir tahmin yapildi ise \n",
    "    # kullanicidan daha kucuk bir tahminde bulunmasini isteyin\n",
    "# kullanici sayiyi dogru bir sekilde tahmin ettigi taktirde donguden cikin ve kullaniciya\n",
    "# dogru bir tahminde bulundugu geri donusunde bulunun\n",
    "# kullanicinin bu tahmini kac seferde yaptigini takip edin ve dogru tahmini yaptigi geri donus\n",
    "# icerisinde bu bilgiyi de verin"
   ]
  }
 ],
 "metadata": {
  "kernelspec": {
   "display_name": "Python 3 (ipykernel)",
   "language": "python",
   "name": "python3"
  },
  "language_info": {
   "codemirror_mode": {
    "name": "ipython",
    "version": 3
   },
   "file_extension": ".py",
   "mimetype": "text/x-python",
   "name": "python",
   "nbconvert_exporter": "python",
   "pygments_lexer": "ipython3",
   "version": "3.10.7"
  }
 },
 "nbformat": 4,
 "nbformat_minor": 5
}
