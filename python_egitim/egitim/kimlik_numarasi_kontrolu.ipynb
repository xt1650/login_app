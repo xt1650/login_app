{
 "cells": [
  {
   "cell_type": "markdown",
   "id": "0b93ce71",
   "metadata": {},
   "source": [
    "<h1>TC Kimlik Numarasi Kontrolu</h1>"
   ]
  },
  {
   "cell_type": "code",
   "execution_count": null,
   "id": "fe536a75",
   "metadata": {},
   "outputs": [],
   "source": [
    "# verilen tc kimlik numarasinin gecerli bir tc kimlik numarasi olup olmadigini kontrol eden bir\n",
    "# fonksiyon yazin kontrol icin gerekli kurallar bunune su adresten ulasabilirsiniz\n",
    "# 11 rakamdan mi olusuyor\n",
    "# cift rakam ile mi bitiyor"
   ]
  },
  {
   "cell_type": "code",
   "execution_count": 5,
   "id": "a07b4897",
   "metadata": {},
   "outputs": [
    {
     "name": "stdout",
     "output_type": "stream",
     "text": [
      "12311111111\n",
      "değil\n"
     ]
    }
   ],
   "source": [
    "sayi=input()\n",
    "\n",
    "\n",
    "def tc_dogrula(x):\n",
    "    ciftmi=0\n",
    "    uzunluk=len(x)\n",
    "    x=int(x)\n",
    "    ciftmi=x % 2\n",
    "    if uzunluk==11 and ciftmi==0:\n",
    "        print(\"Bu bir TC\")\n",
    "    else:\n",
    "        print(\"değil\")\n",
    "tc_dogrula(sayi)"
   ]
  },
  {
   "cell_type": "code",
   "execution_count": 15,
   "id": "6e526c8e",
   "metadata": {},
   "outputs": [
    {
     "name": "stdout",
     "output_type": "stream",
     "text": [
      "123\n"
     ]
    },
    {
     "ename": "AttributeError",
     "evalue": "'str' object has no attribute 'append'",
     "output_type": "error",
     "traceback": [
      "\u001b[0;31m---------------------------------------------------------------------------\u001b[0m",
      "\u001b[0;31mAttributeError\u001b[0m                            Traceback (most recent call last)",
      "Cell \u001b[0;32mIn [15], line 3\u001b[0m\n\u001b[1;32m      1\u001b[0m sayi\u001b[38;5;241m=\u001b[39m\u001b[38;5;28mstr\u001b[39m(\u001b[38;5;28minput\u001b[39m())\n\u001b[1;32m      2\u001b[0m \u001b[38;5;28;01mfor\u001b[39;00m i \u001b[38;5;129;01min\u001b[39;00m \u001b[38;5;28mrange\u001b[39m(\u001b[38;5;241m1\u001b[39m,\u001b[38;5;241m11\u001b[39m):\n\u001b[0;32m----> 3\u001b[0m     dizi\u001b[38;5;241m=\u001b[39mdizi\u001b[38;5;241m.\u001b[39mappend(sayi[i])\n\u001b[1;32m      4\u001b[0m \u001b[38;5;28mprint\u001b[39m(dizi)\n\u001b[1;32m      5\u001b[0m \u001b[38;5;28;01mdef\u001b[39;00m \u001b[38;5;21mtc_yeni\u001b[39m(x):\n",
      "\u001b[0;31mAttributeError\u001b[0m: 'str' object has no attribute 'append'"
     ]
    }
   ],
   "source": [
    "sayi=str(input())\n",
    "\n",
    "for i in range(1,11):\n",
    "    dizi=dizi.append(sayi[i])\n",
    "print(dizi)\n",
    "\n",
    "\n",
    "\n",
    "def tc_yeni(x):\n",
    "    for i in 10:\n",
    "        toplam +=x[i]\n",
    "        print(toplam)\n",
    "    "
   ]
  },
  {
   "cell_type": "code",
   "execution_count": null,
   "id": "3042bd5a",
   "metadata": {},
   "outputs": [],
   "source": []
  }
 ],
 "metadata": {
  "kernelspec": {
   "display_name": "Python 3 (ipykernel)",
   "language": "python",
   "name": "python3"
  },
  "language_info": {
   "codemirror_mode": {
    "name": "ipython",
    "version": 3
   },
   "file_extension": ".py",
   "mimetype": "text/x-python",
   "name": "python",
   "nbconvert_exporter": "python",
   "pygments_lexer": "ipython3",
   "version": "3.9.6"
  }
 },
 "nbformat": 4,
 "nbformat_minor": 5
}
