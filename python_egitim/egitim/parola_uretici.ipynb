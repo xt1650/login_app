{
 "cells": [
  {
   "cell_type": "markdown",
   "id": "f86530da",
   "metadata": {},
   "source": [
    "<h1>Parola Uretici</h1>"
   ]
  },
  {
   "cell_type": "markdown",
   "id": "3283852b",
   "metadata": {},
   "source": [
    "<h2>Gereksinimler</h2>\n",
    "<li>Fonksiyonlar</li>\n",
    "<li>random modulu</li>\n",
    "<li>for donguleri</li>\n",
    "<li>range fonksiyonu</li>"
   ]
  },
  {
   "cell_type": "code",
   "execution_count": null,
   "id": "7554775d",
   "metadata": {},
   "outputs": [],
   "source": [
    "# verilen karakter seti kullanilarak rast gele bir parola uretecek bir parola uretici gelistirin\n",
    "# random kutuphanesinin choice() fonksiyonunu kullanabilirsiniz\n",
    "# parola uzunlugunu kullanicidan alinan bir girdi ile belirleyin\n",
    "from string import ascii_lowercase, ascii_uppercase, digits\n",
    "from random import choice\n",
    "\n",
    "karakter_seti = ascii_lowercase + ascii_uppercase + digits"
   ]
  }
 ],
 "metadata": {
  "kernelspec": {
   "display_name": "Python 3 (ipykernel)",
   "language": "python",
   "name": "python3"
  },
  "language_info": {
   "codemirror_mode": {
    "name": "ipython",
    "version": 3
   },
   "file_extension": ".py",
   "mimetype": "text/x-python",
   "name": "python",
   "nbconvert_exporter": "python",
   "pygments_lexer": "ipython3",
   "version": "3.10.7"
  }
 },
 "nbformat": 4,
 "nbformat_minor": 5
}
